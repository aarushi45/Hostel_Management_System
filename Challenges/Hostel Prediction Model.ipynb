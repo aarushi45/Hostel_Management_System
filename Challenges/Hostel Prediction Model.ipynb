{
 "cells": [
  {
   "cell_type": "markdown",
   "id": "1e224b84",
   "metadata": {},
   "source": [
    "Importing the Dependencies"
   ]
  },
  {
   "cell_type": "code",
   "execution_count": 1,
   "id": "9908addc",
   "metadata": {},
   "outputs": [],
   "source": [
    "import pandas as pd\n",
    "import matplotlib.pyplot as plt\n",
    "import seaborn as sns\n",
    "from sklearn.model_selection import train_test_split\n",
    "from sklearn.linear_model import LinearRegression\n",
    "from sklearn.linear_model import Lasso\n",
    "from sklearn import metrics"
   ]
  },
  {
   "cell_type": "markdown",
   "id": "7df01f16",
   "metadata": {},
   "source": [
    "Data Collection & Analysis"
   ]
  },
  {
   "cell_type": "code",
   "execution_count": 3,
   "id": "25c280e0",
   "metadata": {},
   "outputs": [
    {
     "data": {
      "text/html": [
       "<div>\n",
       "<style scoped>\n",
       "    .dataframe tbody tr th:only-of-type {\n",
       "        vertical-align: middle;\n",
       "    }\n",
       "\n",
       "    .dataframe tbody tr th {\n",
       "        vertical-align: top;\n",
       "    }\n",
       "\n",
       "    .dataframe thead th {\n",
       "        text-align: right;\n",
       "    }\n",
       "</style>\n",
       "<table border=\"1\" class=\"dataframe\">\n",
       "  <thead>\n",
       "    <tr style=\"text-align: right;\">\n",
       "      <th></th>\n",
       "      <th>Unnamed: 0</th>\n",
       "      <th>hostel.name</th>\n",
       "      <th>City</th>\n",
       "      <th>price</th>\n",
       "      <th>Distance</th>\n",
       "      <th>summary.score</th>\n",
       "      <th>rating.band</th>\n",
       "      <th>atmosphere</th>\n",
       "      <th>cleanliness</th>\n",
       "      <th>facilities</th>\n",
       "      <th>location</th>\n",
       "      <th>security</th>\n",
       "      <th>staff</th>\n",
       "      <th>valueformoney</th>\n",
       "      <th>lon</th>\n",
       "      <th>lat</th>\n",
       "    </tr>\n",
       "  </thead>\n",
       "  <tbody>\n",
       "    <tr>\n",
       "      <th>0</th>\n",
       "      <td>1</td>\n",
       "      <td>\"Bike &amp; Bed\" CharinCo Hostel</td>\n",
       "      <td>Osaka</td>\n",
       "      <td>3300</td>\n",
       "      <td>2.9km from city centre</td>\n",
       "      <td>9.2</td>\n",
       "      <td>Superb</td>\n",
       "      <td>8.9</td>\n",
       "      <td>9.4</td>\n",
       "      <td>9.3</td>\n",
       "      <td>8.9</td>\n",
       "      <td>9.0</td>\n",
       "      <td>9.4</td>\n",
       "      <td>9.4</td>\n",
       "      <td>135.513767</td>\n",
       "      <td>34.682678</td>\n",
       "    </tr>\n",
       "    <tr>\n",
       "      <th>1</th>\n",
       "      <td>2</td>\n",
       "      <td>&amp; And Hostel</td>\n",
       "      <td>Fukuoka-City</td>\n",
       "      <td>2600</td>\n",
       "      <td>0.7km from city centre</td>\n",
       "      <td>9.5</td>\n",
       "      <td>Superb</td>\n",
       "      <td>9.4</td>\n",
       "      <td>9.7</td>\n",
       "      <td>9.5</td>\n",
       "      <td>9.7</td>\n",
       "      <td>9.2</td>\n",
       "      <td>9.7</td>\n",
       "      <td>9.5</td>\n",
       "      <td>NaN</td>\n",
       "      <td>NaN</td>\n",
       "    </tr>\n",
       "    <tr>\n",
       "      <th>2</th>\n",
       "      <td>3</td>\n",
       "      <td>&amp;And Hostel Akihabara</td>\n",
       "      <td>Tokyo</td>\n",
       "      <td>3600</td>\n",
       "      <td>7.8km from city centre</td>\n",
       "      <td>8.7</td>\n",
       "      <td>Fabulous</td>\n",
       "      <td>8.0</td>\n",
       "      <td>7.0</td>\n",
       "      <td>9.0</td>\n",
       "      <td>8.0</td>\n",
       "      <td>10.0</td>\n",
       "      <td>10.0</td>\n",
       "      <td>9.0</td>\n",
       "      <td>139.777472</td>\n",
       "      <td>35.697447</td>\n",
       "    </tr>\n",
       "    <tr>\n",
       "      <th>3</th>\n",
       "      <td>4</td>\n",
       "      <td>&amp;And Hostel Ueno</td>\n",
       "      <td>Tokyo</td>\n",
       "      <td>2600</td>\n",
       "      <td>8.7km from city centre</td>\n",
       "      <td>7.4</td>\n",
       "      <td>Very Good</td>\n",
       "      <td>8.0</td>\n",
       "      <td>7.5</td>\n",
       "      <td>7.5</td>\n",
       "      <td>7.5</td>\n",
       "      <td>7.0</td>\n",
       "      <td>8.0</td>\n",
       "      <td>6.5</td>\n",
       "      <td>139.783667</td>\n",
       "      <td>35.712716</td>\n",
       "    </tr>\n",
       "    <tr>\n",
       "      <th>4</th>\n",
       "      <td>5</td>\n",
       "      <td>&amp;And Hostel-Asakusa North-</td>\n",
       "      <td>Tokyo</td>\n",
       "      <td>1500</td>\n",
       "      <td>10.5km from city centre</td>\n",
       "      <td>9.4</td>\n",
       "      <td>Superb</td>\n",
       "      <td>9.5</td>\n",
       "      <td>9.5</td>\n",
       "      <td>9.0</td>\n",
       "      <td>9.0</td>\n",
       "      <td>9.5</td>\n",
       "      <td>10.0</td>\n",
       "      <td>9.5</td>\n",
       "      <td>139.798371</td>\n",
       "      <td>35.727898</td>\n",
       "    </tr>\n",
       "  </tbody>\n",
       "</table>\n",
       "</div>"
      ],
      "text/plain": [
       "   Unnamed: 0                   hostel.name          City  price  \\\n",
       "0           1  \"Bike & Bed\" CharinCo Hostel         Osaka   3300   \n",
       "1           2                  & And Hostel  Fukuoka-City   2600   \n",
       "2           3         &And Hostel Akihabara         Tokyo   3600   \n",
       "3           4              &And Hostel Ueno         Tokyo   2600   \n",
       "4           5    &And Hostel-Asakusa North-         Tokyo   1500   \n",
       "\n",
       "                  Distance  summary.score rating.band  atmosphere  \\\n",
       "0   2.9km from city centre            9.2      Superb         8.9   \n",
       "1   0.7km from city centre            9.5      Superb         9.4   \n",
       "2   7.8km from city centre            8.7    Fabulous         8.0   \n",
       "3   8.7km from city centre            7.4   Very Good         8.0   \n",
       "4  10.5km from city centre            9.4      Superb         9.5   \n",
       "\n",
       "   cleanliness  facilities  location  security  staff  valueformoney  \\\n",
       "0          9.4         9.3       8.9       9.0    9.4            9.4   \n",
       "1          9.7         9.5       9.7       9.2    9.7            9.5   \n",
       "2          7.0         9.0       8.0      10.0   10.0            9.0   \n",
       "3          7.5         7.5       7.5       7.0    8.0            6.5   \n",
       "4          9.5         9.0       9.0       9.5   10.0            9.5   \n",
       "\n",
       "          lon        lat  \n",
       "0  135.513767  34.682678  \n",
       "1         NaN        NaN  \n",
       "2  139.777472  35.697447  \n",
       "3  139.783667  35.712716  \n",
       "4  139.798371  35.727898  "
      ]
     },
     "execution_count": 3,
     "metadata": {},
     "output_type": "execute_result"
    }
   ],
   "source": [
    "# loading the data from csv file to a Pandas DataFrame\n",
    "df=pd.read_csv('C:\\\\Users\\\\aaruj\\\\Downloads\\\\Hostel_copy.csv')\n",
    "# first 5 rows of the dataframe\n",
    "df.head()"
   ]
  },
  {
   "cell_type": "code",
   "execution_count": 4,
   "id": "95f6fd08",
   "metadata": {},
   "outputs": [
    {
     "data": {
      "text/plain": [
       "(342, 16)"
      ]
     },
     "execution_count": 4,
     "metadata": {},
     "output_type": "execute_result"
    }
   ],
   "source": [
    "# number of rows and columns\n",
    "df.shape"
   ]
  },
  {
   "cell_type": "code",
   "execution_count": 5,
   "id": "fbe89abf",
   "metadata": {},
   "outputs": [
    {
     "name": "stdout",
     "output_type": "stream",
     "text": [
      "<class 'pandas.core.frame.DataFrame'>\n",
      "RangeIndex: 342 entries, 0 to 341\n",
      "Data columns (total 16 columns):\n",
      " #   Column         Non-Null Count  Dtype  \n",
      "---  ------         --------------  -----  \n",
      " 0   Unnamed: 0     342 non-null    int64  \n",
      " 1   hostel.name    342 non-null    object \n",
      " 2   City           342 non-null    object \n",
      " 3   price          342 non-null    int64  \n",
      " 4   Distance       342 non-null    object \n",
      " 5   summary.score  327 non-null    float64\n",
      " 6   rating.band    327 non-null    object \n",
      " 7   atmosphere     327 non-null    float64\n",
      " 8   cleanliness    327 non-null    float64\n",
      " 9   facilities     327 non-null    float64\n",
      " 10  location       327 non-null    float64\n",
      " 11  security       327 non-null    float64\n",
      " 12  staff          327 non-null    float64\n",
      " 13  valueformoney  327 non-null    float64\n",
      " 14  lon            298 non-null    float64\n",
      " 15  lat            298 non-null    float64\n",
      "dtypes: float64(10), int64(2), object(4)\n",
      "memory usage: 42.9+ KB\n"
     ]
    }
   ],
   "source": [
    "# getting some informations about the dataset\n",
    "df.info()"
   ]
  },
  {
   "cell_type": "code",
   "execution_count": 6,
   "id": "033eff81",
   "metadata": {},
   "outputs": [
    {
     "data": {
      "text/html": [
       "<div>\n",
       "<style scoped>\n",
       "    .dataframe tbody tr th:only-of-type {\n",
       "        vertical-align: middle;\n",
       "    }\n",
       "\n",
       "    .dataframe tbody tr th {\n",
       "        vertical-align: top;\n",
       "    }\n",
       "\n",
       "    .dataframe thead th {\n",
       "        text-align: right;\n",
       "    }\n",
       "</style>\n",
       "<table border=\"1\" class=\"dataframe\">\n",
       "  <thead>\n",
       "    <tr style=\"text-align: right;\">\n",
       "      <th></th>\n",
       "      <th>Unnamed: 0</th>\n",
       "      <th>price</th>\n",
       "      <th>summary.score</th>\n",
       "      <th>atmosphere</th>\n",
       "      <th>cleanliness</th>\n",
       "      <th>facilities</th>\n",
       "      <th>location</th>\n",
       "      <th>security</th>\n",
       "      <th>staff</th>\n",
       "      <th>valueformoney</th>\n",
       "      <th>lon</th>\n",
       "      <th>lat</th>\n",
       "    </tr>\n",
       "  </thead>\n",
       "  <tbody>\n",
       "    <tr>\n",
       "      <th>count</th>\n",
       "      <td>342.000000</td>\n",
       "      <td>3.420000e+02</td>\n",
       "      <td>327.000000</td>\n",
       "      <td>327.000000</td>\n",
       "      <td>327.000000</td>\n",
       "      <td>327.000000</td>\n",
       "      <td>327.000000</td>\n",
       "      <td>327.000000</td>\n",
       "      <td>327.000000</td>\n",
       "      <td>327.000000</td>\n",
       "      <td>298.000000</td>\n",
       "      <td>298.000000</td>\n",
       "    </tr>\n",
       "    <tr>\n",
       "      <th>mean</th>\n",
       "      <td>171.500000</td>\n",
       "      <td>8.388012e+03</td>\n",
       "      <td>8.782569</td>\n",
       "      <td>8.238838</td>\n",
       "      <td>9.011927</td>\n",
       "      <td>8.597554</td>\n",
       "      <td>8.694801</td>\n",
       "      <td>8.947401</td>\n",
       "      <td>9.133333</td>\n",
       "      <td>8.848318</td>\n",
       "      <td>136.756376</td>\n",
       "      <td>34.976583</td>\n",
       "    </tr>\n",
       "    <tr>\n",
       "      <th>std</th>\n",
       "      <td>98.871128</td>\n",
       "      <td>7.641527e+04</td>\n",
       "      <td>0.960909</td>\n",
       "      <td>1.382002</td>\n",
       "      <td>1.215775</td>\n",
       "      <td>1.285356</td>\n",
       "      <td>1.102703</td>\n",
       "      <td>1.114345</td>\n",
       "      <td>1.086513</td>\n",
       "      <td>1.047809</td>\n",
       "      <td>3.251995</td>\n",
       "      <td>2.040896</td>\n",
       "    </tr>\n",
       "    <tr>\n",
       "      <th>min</th>\n",
       "      <td>1.000000</td>\n",
       "      <td>1.000000e+03</td>\n",
       "      <td>3.100000</td>\n",
       "      <td>2.000000</td>\n",
       "      <td>2.000000</td>\n",
       "      <td>2.000000</td>\n",
       "      <td>2.000000</td>\n",
       "      <td>2.000000</td>\n",
       "      <td>2.000000</td>\n",
       "      <td>4.000000</td>\n",
       "      <td>103.873135</td>\n",
       "      <td>1.310820</td>\n",
       "    </tr>\n",
       "    <tr>\n",
       "      <th>25%</th>\n",
       "      <td>86.250000</td>\n",
       "      <td>2.000000e+03</td>\n",
       "      <td>8.600000</td>\n",
       "      <td>7.800000</td>\n",
       "      <td>8.800000</td>\n",
       "      <td>8.000000</td>\n",
       "      <td>8.000000</td>\n",
       "      <td>8.700000</td>\n",
       "      <td>9.000000</td>\n",
       "      <td>8.600000</td>\n",
       "      <td>135.505314</td>\n",
       "      <td>34.668900</td>\n",
       "    </tr>\n",
       "    <tr>\n",
       "      <th>50%</th>\n",
       "      <td>171.500000</td>\n",
       "      <td>2.500000e+03</td>\n",
       "      <td>9.000000</td>\n",
       "      <td>8.600000</td>\n",
       "      <td>9.300000</td>\n",
       "      <td>9.000000</td>\n",
       "      <td>9.000000</td>\n",
       "      <td>9.200000</td>\n",
       "      <td>9.400000</td>\n",
       "      <td>9.000000</td>\n",
       "      <td>135.761617</td>\n",
       "      <td>34.998470</td>\n",
       "    </tr>\n",
       "    <tr>\n",
       "      <th>75%</th>\n",
       "      <td>256.750000</td>\n",
       "      <td>2.900000e+03</td>\n",
       "      <td>9.400000</td>\n",
       "      <td>9.000000</td>\n",
       "      <td>9.800000</td>\n",
       "      <td>9.300000</td>\n",
       "      <td>9.400000</td>\n",
       "      <td>9.600000</td>\n",
       "      <td>9.800000</td>\n",
       "      <td>9.500000</td>\n",
       "      <td>139.770187</td>\n",
       "      <td>35.696709</td>\n",
       "    </tr>\n",
       "    <tr>\n",
       "      <th>max</th>\n",
       "      <td>342.000000</td>\n",
       "      <td>1.003200e+06</td>\n",
       "      <td>10.000000</td>\n",
       "      <td>10.000000</td>\n",
       "      <td>10.000000</td>\n",
       "      <td>10.000000</td>\n",
       "      <td>10.000000</td>\n",
       "      <td>10.000000</td>\n",
       "      <td>10.000000</td>\n",
       "      <td>10.000000</td>\n",
       "      <td>139.877880</td>\n",
       "      <td>36.204824</td>\n",
       "    </tr>\n",
       "  </tbody>\n",
       "</table>\n",
       "</div>"
      ],
      "text/plain": [
       "       Unnamed: 0         price  summary.score  atmosphere  cleanliness  \\\n",
       "count  342.000000  3.420000e+02     327.000000  327.000000   327.000000   \n",
       "mean   171.500000  8.388012e+03       8.782569    8.238838     9.011927   \n",
       "std     98.871128  7.641527e+04       0.960909    1.382002     1.215775   \n",
       "min      1.000000  1.000000e+03       3.100000    2.000000     2.000000   \n",
       "25%     86.250000  2.000000e+03       8.600000    7.800000     8.800000   \n",
       "50%    171.500000  2.500000e+03       9.000000    8.600000     9.300000   \n",
       "75%    256.750000  2.900000e+03       9.400000    9.000000     9.800000   \n",
       "max    342.000000  1.003200e+06      10.000000   10.000000    10.000000   \n",
       "\n",
       "       facilities    location    security       staff  valueformoney  \\\n",
       "count  327.000000  327.000000  327.000000  327.000000     327.000000   \n",
       "mean     8.597554    8.694801    8.947401    9.133333       8.848318   \n",
       "std      1.285356    1.102703    1.114345    1.086513       1.047809   \n",
       "min      2.000000    2.000000    2.000000    2.000000       4.000000   \n",
       "25%      8.000000    8.000000    8.700000    9.000000       8.600000   \n",
       "50%      9.000000    9.000000    9.200000    9.400000       9.000000   \n",
       "75%      9.300000    9.400000    9.600000    9.800000       9.500000   \n",
       "max     10.000000   10.000000   10.000000   10.000000      10.000000   \n",
       "\n",
       "              lon         lat  \n",
       "count  298.000000  298.000000  \n",
       "mean   136.756376   34.976583  \n",
       "std      3.251995    2.040896  \n",
       "min    103.873135    1.310820  \n",
       "25%    135.505314   34.668900  \n",
       "50%    135.761617   34.998470  \n",
       "75%    139.770187   35.696709  \n",
       "max    139.877880   36.204824  "
      ]
     },
     "execution_count": 6,
     "metadata": {},
     "output_type": "execute_result"
    }
   ],
   "source": [
    "# statistical Measures of the dataset\n",
    "df.describe()"
   ]
  },
  {
   "cell_type": "code",
   "execution_count": 7,
   "id": "7f8fd710",
   "metadata": {},
   "outputs": [
    {
     "data": {
      "text/plain": [
       "Unnamed: 0        0\n",
       "hostel.name       0\n",
       "City              0\n",
       "price             0\n",
       "Distance          0\n",
       "summary.score    15\n",
       "rating.band      15\n",
       "atmosphere       15\n",
       "cleanliness      15\n",
       "facilities       15\n",
       "location         15\n",
       "security         15\n",
       "staff            15\n",
       "valueformoney    15\n",
       "lon              44\n",
       "lat              44\n",
       "dtype: int64"
      ]
     },
     "execution_count": 7,
     "metadata": {},
     "output_type": "execute_result"
    }
   ],
   "source": [
    "# checking for missing values\n",
    "df.isnull().sum()"
   ]
  },
  {
   "cell_type": "code",
   "execution_count": 8,
   "id": "0afd68cb",
   "metadata": {},
   "outputs": [],
   "source": [
    "# removing rows with null values\n",
    "df2=df.dropna(axis=0, how=\"any\")"
   ]
  },
  {
   "cell_type": "markdown",
   "id": "0c5006e0",
   "metadata": {},
   "source": [
    "Splitting the data and target"
   ]
  },
  {
   "cell_type": "code",
   "execution_count": 10,
   "id": "d9821fe4",
   "metadata": {},
   "outputs": [],
   "source": [
    "X=df2.drop(['price','Unnamed: 0','hostel.name','City','Distance','summary.score','rating.band','lon','lat','valueformoney'],axis=1)\n",
    "Y=df2['valueformoney']"
   ]
  },
  {
   "cell_type": "code",
   "execution_count": 11,
   "id": "cf3b4930",
   "metadata": {},
   "outputs": [
    {
     "name": "stdout",
     "output_type": "stream",
     "text": [
      "     atmosphere  cleanliness  facilities  location  security  staff\n",
      "0           8.9          9.4         9.3       8.9       9.0    9.4\n",
      "2           8.0          7.0         9.0       8.0      10.0   10.0\n",
      "3           8.0          7.5         7.5       7.5       7.0    8.0\n",
      "4           9.5          9.5         9.0       9.0       9.5   10.0\n",
      "5           5.5          8.0         6.0       6.0       8.5    8.5\n",
      "..          ...          ...         ...       ...       ...    ...\n",
      "337         7.9          7.7         6.9       8.9       8.9    8.8\n",
      "338         8.6          9.0         7.8       9.4       9.0    9.2\n",
      "339         9.5          9.3         9.4       8.5       9.5    9.2\n",
      "340         7.3          8.0         6.7       8.0       8.7   10.0\n",
      "341         8.1          8.5         7.8       9.0       8.9    9.5\n",
      "\n",
      "[298 rows x 6 columns]\n"
     ]
    }
   ],
   "source": [
    "print(X)"
   ]
  },
  {
   "cell_type": "code",
   "execution_count": 12,
   "id": "2843a51f",
   "metadata": {},
   "outputs": [
    {
     "name": "stdout",
     "output_type": "stream",
     "text": [
      "0      9.4\n",
      "2      9.0\n",
      "3      6.5\n",
      "4      9.5\n",
      "5      6.5\n",
      "      ... \n",
      "337    8.3\n",
      "338    9.4\n",
      "339    9.6\n",
      "340    7.3\n",
      "341    8.5\n",
      "Name: valueformoney, Length: 298, dtype: float64\n"
     ]
    }
   ],
   "source": [
    "print(Y)"
   ]
  },
  {
   "cell_type": "code",
   "execution_count": 13,
   "id": "ba41b04d",
   "metadata": {},
   "outputs": [],
   "source": [
    " X_train,X_test,Y_train,Y_test=train_test_split(X,Y,test_size=0.1,random_state=2)"
   ]
  },
  {
   "cell_type": "markdown",
   "id": "a87b9359",
   "metadata": {},
   "source": [
    "Model Training"
   ]
  },
  {
   "cell_type": "markdown",
   "id": "ef18f27d",
   "metadata": {},
   "source": [
    "Linear Regression"
   ]
  },
  {
   "cell_type": "code",
   "execution_count": 14,
   "id": "d42a5402",
   "metadata": {},
   "outputs": [],
   "source": [
    "#loading linear regression model\n",
    "lr_model=LinearRegression()"
   ]
  },
  {
   "cell_type": "code",
   "execution_count": 15,
   "id": "0af00645",
   "metadata": {},
   "outputs": [
    {
     "data": {
      "text/plain": [
       "LinearRegression()"
      ]
     },
     "execution_count": 15,
     "metadata": {},
     "output_type": "execute_result"
    }
   ],
   "source": [
    "lr_model.fit(X_train,Y_train)"
   ]
  },
  {
   "cell_type": "markdown",
   "id": "43ae7aed",
   "metadata": {},
   "source": [
    "Model Evaluation"
   ]
  },
  {
   "cell_type": "code",
   "execution_count": 16,
   "id": "7035f371",
   "metadata": {},
   "outputs": [],
   "source": [
    "#prediction on training data\n",
    "training_data_pred=lr_model.predict(X_train)"
   ]
  },
  {
   "cell_type": "code",
   "execution_count": 17,
   "id": "e7755235",
   "metadata": {},
   "outputs": [],
   "source": [
    "#R squared Error\n",
    "error_score=metrics.r2_score(Y_train,training_data_pred)"
   ]
  },
  {
   "cell_type": "code",
   "execution_count": 18,
   "id": "73cde0ff",
   "metadata": {},
   "outputs": [
    {
     "name": "stdout",
     "output_type": "stream",
     "text": [
      "R squared Error:  0.7209703245236188\n"
     ]
    }
   ],
   "source": [
    "print(\"R squared Error: \", error_score)"
   ]
  },
  {
   "cell_type": "code",
   "execution_count": 19,
   "id": "14714f39",
   "metadata": {},
   "outputs": [],
   "source": [
    "# prediction on Training data\n",
    "test_data_pred = lr_model.predict(X_test)"
   ]
  },
  {
   "cell_type": "code",
   "execution_count": 21,
   "id": "35917e5a",
   "metadata": {},
   "outputs": [
    {
     "name": "stdout",
     "output_type": "stream",
     "text": [
      "R squared Error:  0.6086731454891389\n"
     ]
    }
   ],
   "source": [
    "# R squared Error\n",
    "error_score=metrics.r2_score(Y_test,test_data_pred)\n",
    "print(\"R squared Error: \", error_score)"
   ]
  }
 ],
 "metadata": {
  "kernelspec": {
   "display_name": "Python 3 (ipykernel)",
   "language": "python",
   "name": "python3"
  },
  "language_info": {
   "codemirror_mode": {
    "name": "ipython",
    "version": 3
   },
   "file_extension": ".py",
   "mimetype": "text/x-python",
   "name": "python",
   "nbconvert_exporter": "python",
   "pygments_lexer": "ipython3",
   "version": "3.9.13"
  }
 },
 "nbformat": 4,
 "nbformat_minor": 5
}
